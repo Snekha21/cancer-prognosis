{
 "cells": [
  {
   "cell_type": "code",
   "execution_count": 61,
   "id": "8aca3e01-3ee6-42ef-bd1b-73172f5bed24",
   "metadata": {},
   "outputs": [],
   "source": [
    "# importing libraries  \n",
    "import numpy as nm  \n",
    "import matplotlib.pyplot as mtp  \n",
    "import pandas as pd  \n",
    "  \n",
    "#importing datasets  \n",
    "data_set= pd.read_csv('data_blood.csv')  \n",
    "  \n",
    "#Extracting Independent and dependent Variable  \n",
    "x= data_set.iloc[:, [3,1]].values  \n",
    "y= data_set.iloc[:, 15].values  \n",
    "  \n",
    "# Splitting the dataset into training and test set.  \n",
    "from sklearn.model_selection import train_test_split  \n",
    "x_train, x_test, y_train, y_test= train_test_split(x, y, test_size= 0.25, random_state=0)  \n",
    "  \n",
    "#feature Scaling  \n",
    "from sklearn.preprocessing import StandardScaler    \n",
    "st_x= StandardScaler()  \n",
    "x_train= st_x.fit_transform(x_train)    \n",
    "x_test= st_x.transform(x_test)    "
   ]
  },
  {
   "cell_type": "code",
   "execution_count": 62,
   "id": "1f6c9f5d-b551-4ab7-a933-c9070dfdf415",
   "metadata": {},
   "outputs": [
    {
     "data": {
      "text/plain": [
       "DecisionTreeClassifier(criterion='entropy', random_state=0)"
      ]
     },
     "execution_count": 62,
     "metadata": {},
     "output_type": "execute_result"
    }
   ],
   "source": [
    "#Fitting Decision Tree classifier to the training set  \n",
    "from sklearn.tree import DecisionTreeClassifier  \n",
    "classifier= DecisionTreeClassifier(criterion='entropy', random_state=0)  \n",
    "classifier.fit(x_train, y_train)  "
   ]
  },
  {
   "cell_type": "code",
   "execution_count": 63,
   "id": "a44a1f36-6f53-4485-949c-55b055025dc9",
   "metadata": {},
   "outputs": [
    {
     "name": "stdout",
     "output_type": "stream",
     "text": [
      "[1 1 1 1 1 1 0 1 1 1 1 1 1 1 1 1 0 1 1 1 1 1 1 1 1 1 1 1 1 1 1 1 1 1 1 1 1\n",
      " 1 0 1 1 1 1 0 1 1 1 1 1 1 1 1 1 1 1 1 1 1 1 1 1 1 1 1 0 1 1 1 1 1 1 0 0 1\n",
      " 1 1 1 1]\n"
     ]
    }
   ],
   "source": [
    "#Predicting the test set result  \n",
    "y_pred= classifier.predict(x_test)  \n",
    "print(y_pred)"
   ]
  },
  {
   "cell_type": "code",
   "execution_count": 64,
   "id": "eafd17ff-76dc-430a-91a9-06ea0db9b087",
   "metadata": {},
   "outputs": [
    {
     "name": "stdout",
     "output_type": "stream",
     "text": [
      "[[ 0 10]\n",
      " [ 7 61]]\n"
     ]
    }
   ],
   "source": [
    "#Creating the Confusion matrix  \n",
    "from sklearn.metrics import confusion_matrix  \n",
    "cm= confusion_matrix(y_test, y_pred)  \n",
    "print(cm)"
   ]
  },
  {
   "cell_type": "code",
   "execution_count": 65,
   "id": "f1a71bf8-87d9-47c3-b59b-e7af11fcebb5",
   "metadata": {},
   "outputs": [],
   "source": [
    "#0+61=61 right predictions and 10+7 =17 wrong predictions"
   ]
  },
  {
   "cell_type": "code",
   "execution_count": 66,
   "id": "4a55d62c-dfce-423f-ab33-fd362c882e73",
   "metadata": {},
   "outputs": [],
   "source": [
    "# #Visualizing the training set result  \n",
    "# from matplotlib.colors import ListedColormap  \n",
    "# x_set, y_set = x_train, y_train  \n",
    "# x1, x2 ,x3,x4,x5 = nm.meshgrid(nm.arange(start = x_set[:, 0].min() - 1, stop = x_set[:, 0].max() + 1, step  =0.01),  \n",
    "# nm.arange(start = x_set[:, 1].min() - 1, stop = x_set[:, 1].max() + 1, step = 0.01),\n",
    "# nm.arange(start = x_set[:, 2].min() - 1, stop = x_set[:, 2].max() + 1, step = 0.01),\n",
    "# nm.arange(start = x_set[:, 3].min() - 1, stop = x_set[:, 3].max() + 1, step = 0.01),\n",
    "# nm.arange(start = x_set[:, 4].min() - 1, stop = x_set[:, 4].max() + 1, step = 0.01))\n",
    "# mtp.contourf(x1, x2, x3,x4,x5,classifier.predict(nm.array([x1.ravel(), x2.ravel() ,x3.ravel(),x4.ravel(),x5.ravel()]).T).reshape(x1.shape),  \n",
    "# alpha = 0.75, cmap = ListedColormap(('purple','green','blue','pink','yellow')))  \n",
    "# mtp.xlim(x1.min(), x1.max())  \n",
    "# mtp.ylim(x2.min(), x2.max())  \n",
    "\n",
    "# for i, j in enumerate(nm.unique(y_set)):  \n",
    "#  mtp.scatter(x_set[y_set == j, 0], x_set[y_set == j, 1],x_set[y_set == j, 2],x_set[y_set == j, 3],x_set[y_set == j, 4],  \n",
    "#  plot = ListedColormap(('purple', 'green','blue','pink','yellow'))(i), label = j)  \n",
    "# mtp.title('Decision Tree Algorithm (Training set)')  \n",
    "# mtp.xlabel('Age')  \n",
    "# mtp.ylabel('Estimated Salary')  \n",
    "# mtp.legend()  \n",
    "# mtp.show()  "
   ]
  },
  {
   "cell_type": "code",
   "execution_count": 67,
   "id": "965da215-3e33-4736-8fb9-70846139efb5",
   "metadata": {},
   "outputs": [
    {
     "name": "stderr",
     "output_type": "stream",
     "text": [
      "*c* argument looks like a single numeric RGB or RGBA sequence, which should be avoided as value-mapping will have precedence in case its length matches with *x* & *y*.  Please use the *color* keyword-argument or provide a 2D array with a single row if you intend to specify the same RGB or RGBA value for all points.\n",
      "*c* argument looks like a single numeric RGB or RGBA sequence, which should be avoided as value-mapping will have precedence in case its length matches with *x* & *y*.  Please use the *color* keyword-argument or provide a 2D array with a single row if you intend to specify the same RGB or RGBA value for all points.\n"
     ]
    },
    {
     "data": {
      "image/png": "[encoded data removed]",
      "text/plain": [
       "<Figure size 432x288 with 1 Axes>"
      ]
     },
     "metadata": {
      "needs_background": "light"
     },
     "output_type": "display_data"
    }
   ],
   "source": [
    "#Visulaizing the trianing set result  \n",
    "from matplotlib.colors import ListedColormap  \n",
    "x_set, y_set = x_train, y_train  \n",
    "x1, x2 = nm.meshgrid(nm.arange(start = x_set[:, 0].min() - 1, stop = x_set[:, 0].max() + 1, step  =0.01),  \n",
    "nm.arange(start = x_set[:, 1].min() - 1, stop = x_set[:, 1].max() + 1, step = 0.01))  \n",
    "mtp.contourf(x1, x2, classifier.predict(nm.array([x1.ravel(), x2.ravel()]).T).reshape(x1.shape),  \n",
    "alpha = 0.75, cmap = ListedColormap(('blue','pink' )))  \n",
    "mtp.xlim(x1.min(), x1.max())  \n",
    "mtp.ylim(x2.min(), x2.max())  \n",
    "for i, j in enumerate(nm.unique(y_set)):  \n",
    " mtp.scatter(x_set[y_set == j, 0], x_set[y_set == j, 1],  \n",
    "        c = ListedColormap(('black', 'purple'))(i), label = j)  \n",
    "mtp.title('LEUKEMIA (Training set)')  \n",
    "mtp.xlabel('SYMPTOMS')  \n",
    "mtp.ylabel('RISK')  \n",
    "mtp.legend()  \n",
    "mtp.show()  "
   ]
  },
  {
   "cell_type": "code",
   "execution_count": 68,
   "id": "c4f7ec0a-bbc5-4c83-86be-7731a7b82a49",
   "metadata": {},
   "outputs": [
    {
     "name": "stderr",
     "output_type": "stream",
     "text": [
      "*c* argument looks like a single numeric RGB or RGBA sequence, which should be avoided as value-mapping will have precedence in case its length matches with *x* & *y*.  Please use the *color* keyword-argument or provide a 2D array with a single row if you intend to specify the same RGB or RGBA value for all points.\n",
      "*c* argument looks like a single numeric RGB or RGBA sequence, which should be avoided as value-mapping will have precedence in case its length matches with *x* & *y*.  Please use the *color* keyword-argument or provide a 2D array with a single row if you intend to specify the same RGB or RGBA value for all points.\n"
     ]
    },
    {
     "data": {
      "image/png": "[encoded data removed]",
      "text/plain": [
       "<Figure size 432x288 with 1 Axes>"
      ]
     },
     "metadata": {
      "needs_background": "light"
     },
     "output_type": "display_data"
    }
   ],
   "source": [
    "#Visulaizing the test set result  \n",
    "from matplotlib.colors import ListedColormap  \n",
    "x_set, y_set = x_test, y_test  \n",
    "x1, x2 = nm.meshgrid(nm.arange(start = x_set[:, 0].min() - 1, stop = x_set[:, 0].max() + 1, step  =0.01),  \n",
    "nm.arange(start = x_set[:, 1].min() - 1, stop = x_set[:, 1].max() + 1, step = 0.01))  \n",
    "mtp.contourf(x1, x2, classifier.predict(nm.array([x1.ravel(), x2.ravel()]).T).reshape(x1.shape),  \n",
    "alpha = 0.75, cmap = ListedColormap(('purple','green' )))  \n",
    "mtp.xlim(x1.min(), x1.max())  \n",
    "mtp.ylim(x2.min(), x2.max())  \n",
    "for i, j in enumerate(nm.unique(y_set)):  \n",
    " mtp.scatter(x_set[y_set == j, 0], x_set[y_set == j, 1],  \n",
    "        c = ListedColormap(('purple', 'pink'))(i), label = j)  \n",
    "mtp.title('LEUKEMIA(Test set)')  \n",
    "mtp.xlabel('SYMPTOMS')  \n",
    "mtp.ylabel('RISK')  \n",
    "mtp.legend()  \n",
    "mtp.show()  "
   ]
  },
  {
   "cell_type": "code",
   "execution_count": null,
   "id": "a6161561-faf4-45ec-8572-bfd0bdfb38c9",
   "metadata": {},
   "outputs": [],
   "source": []
  },
  {
   "cell_type": "code",
   "execution_count": null,
   "id": "e0758c95-5e15-4ab6-ab9c-49ea7ce37b38",
   "metadata": {},
   "outputs": [],
   "source": []
  },
  {
   "cell_type": "code",
   "execution_count": null,
   "id": "9a94123b",
   "metadata": {},
   "outputs": [],
   "source": []
  }
 ],
 "metadata": {
  "kernelspec": {
   "display_name": "Python 3 (ipykernel)",
   "language": "python",
   "name": "python3"
  },
  "language_info": {
   "codemirror_mode": {
    "name": "ipython",
    "version": 3
   },
   "file_extension": ".py",
   "mimetype": "text/x-python",
   "name": "python",
   "nbconvert_exporter": "python",
   "pygments_lexer": "ipython3",
   "version": "3.8.12"
  }
 },
 "nbformat": 4,
 "nbformat_minor": 5
}
